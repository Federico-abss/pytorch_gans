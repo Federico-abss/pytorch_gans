{
 "cells": [
  {
   "cell_type": "markdown",
   "metadata": {
    "_cell_guid": "b1076dfc-b9ad-4769-8c92-a6c4dae69d19",
    "_uuid": "8f2839f25d086af736a60e9eeb907d3b93b6e0e5"
   },
   "source": [
    "# Age of death prediction using linear regression\n",
    "\n",
    "Using the WHO life expectancy dataset: https://www.kaggle.com/kumarajarshi/life-expectancy-who/data#"
   ]
  },
  {
   "cell_type": "code",
   "execution_count": 1,
   "metadata": {
    "_cell_guid": "79c7e3d0-c299-4dcb-8224-4455121ee9b0",
    "_uuid": "d629ff2d2480ee46fbb7e2d37f6b5fab8052498a"
   },
   "outputs": [
    {
     "name": "stdout",
     "output_type": "stream",
     "text": [
      "Collecting package metadata (current_repodata.json): done\n",
      "Solving environment: done\n",
      "\n",
      "\n",
      "==> WARNING: A newer version of conda exists. <==\n",
      "  current version: 4.8.2\n",
      "  latest version: 4.8.3\n",
      "\n",
      "Please update conda by running\n",
      "\n",
      "    $ conda update -n base conda\n",
      "\n",
      "\n",
      "\n",
      "# All requested packages already installed.\n",
      "\n",
      "WARNING: pip is being invoked by an old script wrapper. This will fail in a future version of pip.\n",
      "Please see https://github.com/pypa/pip/issues/5599 for advice on fixing the underlying issue.\n",
      "To avoid this problem you can invoke Python with '-m pip' instead of running pip directly.\n",
      "WARNING: pip is being invoked by an old script wrapper. This will fail in a future version of pip.\n",
      "Please see https://github.com/pypa/pip/issues/5599 for advice on fixing the underlying issue.\n",
      "To avoid this problem you can invoke Python with '-m pip' instead of running pip directly.\n",
      "Requirement already satisfied: pandas in /srv/conda/envs/notebook/lib/python3.7/site-packages (1.0.4)\n",
      "Requirement already satisfied: python-dateutil>=2.6.1 in /srv/conda/envs/notebook/lib/python3.7/site-packages (from pandas) (2.8.1)\n",
      "Requirement already satisfied: pytz>=2017.2 in /srv/conda/envs/notebook/lib/python3.7/site-packages (from pandas) (2020.1)\n",
      "Requirement already satisfied: numpy>=1.13.3 in /srv/conda/envs/notebook/lib/python3.7/site-packages (from pandas) (1.18.4)\n",
      "Requirement already satisfied: six>=1.5 in /srv/conda/envs/notebook/lib/python3.7/site-packages (from python-dateutil>=2.6.1->pandas) (1.14.0)\n",
      "WARNING: pip is being invoked by an old script wrapper. This will fail in a future version of pip.\n",
      "Please see https://github.com/pypa/pip/issues/5599 for advice on fixing the underlying issue.\n",
      "To avoid this problem you can invoke Python with '-m pip' instead of running pip directly.\n",
      "Requirement already satisfied: seaborn in /srv/conda/envs/notebook/lib/python3.7/site-packages (0.10.1)\n",
      "Requirement already satisfied: pandas>=0.22.0 in /srv/conda/envs/notebook/lib/python3.7/site-packages (from seaborn) (1.0.4)\n",
      "Requirement already satisfied: numpy>=1.13.3 in /srv/conda/envs/notebook/lib/python3.7/site-packages (from seaborn) (1.18.4)\n",
      "Requirement already satisfied: matplotlib>=2.1.2 in /srv/conda/envs/notebook/lib/python3.7/site-packages (from seaborn) (3.2.1)\n",
      "Requirement already satisfied: scipy>=1.0.1 in /srv/conda/envs/notebook/lib/python3.7/site-packages (from seaborn) (1.4.1)\n",
      "Requirement already satisfied: python-dateutil>=2.6.1 in /srv/conda/envs/notebook/lib/python3.7/site-packages (from pandas>=0.22.0->seaborn) (2.8.1)\n",
      "Requirement already satisfied: pytz>=2017.2 in /srv/conda/envs/notebook/lib/python3.7/site-packages (from pandas>=0.22.0->seaborn) (2020.1)\n",
      "Requirement already satisfied: cycler>=0.10 in /srv/conda/envs/notebook/lib/python3.7/site-packages (from matplotlib>=2.1.2->seaborn) (0.10.0)\n",
      "Requirement already satisfied: kiwisolver>=1.0.1 in /srv/conda/envs/notebook/lib/python3.7/site-packages (from matplotlib>=2.1.2->seaborn) (1.2.0)\n",
      "Requirement already satisfied: pyparsing!=2.0.4,!=2.1.2,!=2.1.6,>=2.0.1 in /srv/conda/envs/notebook/lib/python3.7/site-packages (from matplotlib>=2.1.2->seaborn) (2.4.7)\n",
      "Requirement already satisfied: six>=1.5 in /srv/conda/envs/notebook/lib/python3.7/site-packages (from python-dateutil>=2.6.1->pandas>=0.22.0->seaborn) (1.14.0)\n",
      "WARNING: pip is being invoked by an old script wrapper. This will fail in a future version of pip.\n",
      "Please see https://github.com/pypa/pip/issues/5599 for advice on fixing the underlying issue.\n",
      "To avoid this problem you can invoke Python with '-m pip' instead of running pip directly.\n"
     ]
    }
   ],
   "source": [
    "# Uncomment and run the commands below if imports fail\n",
    "!conda install numpy pytorch torchvision cpuonly -c pytorch -y\n",
    "!pip install matplotlib --upgrade --quiet\n",
    "!pip install pandas\n",
    "!pip install seaborn\n",
    "!pip install jovian --upgrade --quiet"
   ]
  },
  {
   "cell_type": "code",
   "execution_count": 2,
   "metadata": {},
   "outputs": [],
   "source": [
    "# Imports\n",
    "import torch\n",
    "import jovian\n",
    "import torchvision\n",
    "import torch.nn as nn\n",
    "import pandas as pd\n",
    "import matplotlib.pyplot as plt\n",
    "import seaborn as sns\n",
    "import torch.nn.functional as F\n",
    "from torchvision.datasets.utils import download_url\n",
    "from torch.utils.data import DataLoader, TensorDataset, random_split"
   ]
  },
  {
   "cell_type": "code",
   "execution_count": 3,
   "metadata": {},
   "outputs": [],
   "source": [
    "# Other constants\n",
    "DATASET_URL = \"https://raw.githubusercontent.com/Federico-abss/pytorch_gans/master/datasets/life_expectancy_data.csv\"\n",
    "DATA_FILENAME = \"life_expectancy_data.csv\"\n",
    "input_size=5\n",
    "output_size=1"
   ]
  },
  {
   "cell_type": "code",
   "execution_count": 4,
   "metadata": {},
   "outputs": [
    {
     "name": "stdout",
     "output_type": "stream",
     "text": [
      "Using downloaded and verified file: ./life_expectancy_data.csv\n"
     ]
    },
    {
     "data": {
      "text/html": [
       "<div>\n",
       "<style scoped>\n",
       "    .dataframe tbody tr th:only-of-type {\n",
       "        vertical-align: middle;\n",
       "    }\n",
       "\n",
       "    .dataframe tbody tr th {\n",
       "        vertical-align: top;\n",
       "    }\n",
       "\n",
       "    .dataframe thead th {\n",
       "        text-align: right;\n",
       "    }\n",
       "</style>\n",
       "<table border=\"1\" class=\"dataframe\">\n",
       "  <thead>\n",
       "    <tr style=\"text-align: right;\">\n",
       "      <th></th>\n",
       "      <th>Year</th>\n",
       "      <th>Life expectancy</th>\n",
       "      <th>Adult Mortality</th>\n",
       "      <th>infant deaths</th>\n",
       "      <th>Alcohol</th>\n",
       "      <th>percentage expenditure</th>\n",
       "      <th>Hepatitis B</th>\n",
       "      <th>Measles</th>\n",
       "      <th>BMI</th>\n",
       "      <th>under-five deaths</th>\n",
       "      <th>Polio</th>\n",
       "      <th>Total expenditure</th>\n",
       "      <th>Diphtheria</th>\n",
       "      <th>HIV/AIDS</th>\n",
       "      <th>GDP</th>\n",
       "      <th>Population</th>\n",
       "      <th>thinness  1-19 years</th>\n",
       "      <th>thinness 5-9 years</th>\n",
       "      <th>Income composition of resources</th>\n",
       "      <th>Schooling</th>\n",
       "    </tr>\n",
       "  </thead>\n",
       "  <tbody>\n",
       "    <tr>\n",
       "      <th>count</th>\n",
       "      <td>2938.000000</td>\n",
       "      <td>2928.000000</td>\n",
       "      <td>2928.000000</td>\n",
       "      <td>2938.000000</td>\n",
       "      <td>2744.000000</td>\n",
       "      <td>2938.000000</td>\n",
       "      <td>2385.000000</td>\n",
       "      <td>2938.000000</td>\n",
       "      <td>2904.000000</td>\n",
       "      <td>2938.000000</td>\n",
       "      <td>2919.000000</td>\n",
       "      <td>2712.00000</td>\n",
       "      <td>2919.000000</td>\n",
       "      <td>2938.000000</td>\n",
       "      <td>2490.000000</td>\n",
       "      <td>2.286000e+03</td>\n",
       "      <td>2904.000000</td>\n",
       "      <td>2904.000000</td>\n",
       "      <td>2771.000000</td>\n",
       "      <td>2775.000000</td>\n",
       "    </tr>\n",
       "    <tr>\n",
       "      <th>mean</th>\n",
       "      <td>2007.518720</td>\n",
       "      <td>69.224932</td>\n",
       "      <td>164.796448</td>\n",
       "      <td>30.303948</td>\n",
       "      <td>4.602861</td>\n",
       "      <td>738.251295</td>\n",
       "      <td>80.940461</td>\n",
       "      <td>2419.592240</td>\n",
       "      <td>38.321247</td>\n",
       "      <td>42.035739</td>\n",
       "      <td>82.550188</td>\n",
       "      <td>5.93819</td>\n",
       "      <td>82.324084</td>\n",
       "      <td>1.742103</td>\n",
       "      <td>7483.158469</td>\n",
       "      <td>1.275338e+07</td>\n",
       "      <td>4.839704</td>\n",
       "      <td>4.870317</td>\n",
       "      <td>0.627551</td>\n",
       "      <td>11.992793</td>\n",
       "    </tr>\n",
       "    <tr>\n",
       "      <th>std</th>\n",
       "      <td>4.613841</td>\n",
       "      <td>9.523867</td>\n",
       "      <td>124.292079</td>\n",
       "      <td>117.926501</td>\n",
       "      <td>4.052413</td>\n",
       "      <td>1987.914858</td>\n",
       "      <td>25.070016</td>\n",
       "      <td>11467.272489</td>\n",
       "      <td>20.044034</td>\n",
       "      <td>160.445548</td>\n",
       "      <td>23.428046</td>\n",
       "      <td>2.49832</td>\n",
       "      <td>23.716912</td>\n",
       "      <td>5.077785</td>\n",
       "      <td>14270.169342</td>\n",
       "      <td>6.101210e+07</td>\n",
       "      <td>4.420195</td>\n",
       "      <td>4.508882</td>\n",
       "      <td>0.210904</td>\n",
       "      <td>3.358920</td>\n",
       "    </tr>\n",
       "    <tr>\n",
       "      <th>min</th>\n",
       "      <td>2000.000000</td>\n",
       "      <td>36.300000</td>\n",
       "      <td>1.000000</td>\n",
       "      <td>0.000000</td>\n",
       "      <td>0.010000</td>\n",
       "      <td>0.000000</td>\n",
       "      <td>1.000000</td>\n",
       "      <td>0.000000</td>\n",
       "      <td>1.000000</td>\n",
       "      <td>0.000000</td>\n",
       "      <td>3.000000</td>\n",
       "      <td>0.37000</td>\n",
       "      <td>2.000000</td>\n",
       "      <td>0.100000</td>\n",
       "      <td>1.681350</td>\n",
       "      <td>3.400000e+01</td>\n",
       "      <td>0.100000</td>\n",
       "      <td>0.100000</td>\n",
       "      <td>0.000000</td>\n",
       "      <td>0.000000</td>\n",
       "    </tr>\n",
       "    <tr>\n",
       "      <th>25%</th>\n",
       "      <td>2004.000000</td>\n",
       "      <td>63.100000</td>\n",
       "      <td>74.000000</td>\n",
       "      <td>0.000000</td>\n",
       "      <td>0.877500</td>\n",
       "      <td>4.685343</td>\n",
       "      <td>77.000000</td>\n",
       "      <td>0.000000</td>\n",
       "      <td>19.300000</td>\n",
       "      <td>0.000000</td>\n",
       "      <td>78.000000</td>\n",
       "      <td>4.26000</td>\n",
       "      <td>78.000000</td>\n",
       "      <td>0.100000</td>\n",
       "      <td>463.935626</td>\n",
       "      <td>1.957932e+05</td>\n",
       "      <td>1.600000</td>\n",
       "      <td>1.500000</td>\n",
       "      <td>0.493000</td>\n",
       "      <td>10.100000</td>\n",
       "    </tr>\n",
       "    <tr>\n",
       "      <th>50%</th>\n",
       "      <td>2008.000000</td>\n",
       "      <td>72.100000</td>\n",
       "      <td>144.000000</td>\n",
       "      <td>3.000000</td>\n",
       "      <td>3.755000</td>\n",
       "      <td>64.912906</td>\n",
       "      <td>92.000000</td>\n",
       "      <td>17.000000</td>\n",
       "      <td>43.500000</td>\n",
       "      <td>4.000000</td>\n",
       "      <td>93.000000</td>\n",
       "      <td>5.75500</td>\n",
       "      <td>93.000000</td>\n",
       "      <td>0.100000</td>\n",
       "      <td>1766.947595</td>\n",
       "      <td>1.386542e+06</td>\n",
       "      <td>3.300000</td>\n",
       "      <td>3.300000</td>\n",
       "      <td>0.677000</td>\n",
       "      <td>12.300000</td>\n",
       "    </tr>\n",
       "    <tr>\n",
       "      <th>75%</th>\n",
       "      <td>2012.000000</td>\n",
       "      <td>75.700000</td>\n",
       "      <td>228.000000</td>\n",
       "      <td>22.000000</td>\n",
       "      <td>7.702500</td>\n",
       "      <td>441.534144</td>\n",
       "      <td>97.000000</td>\n",
       "      <td>360.250000</td>\n",
       "      <td>56.200000</td>\n",
       "      <td>28.000000</td>\n",
       "      <td>97.000000</td>\n",
       "      <td>7.49250</td>\n",
       "      <td>97.000000</td>\n",
       "      <td>0.800000</td>\n",
       "      <td>5910.806335</td>\n",
       "      <td>7.420359e+06</td>\n",
       "      <td>7.200000</td>\n",
       "      <td>7.200000</td>\n",
       "      <td>0.779000</td>\n",
       "      <td>14.300000</td>\n",
       "    </tr>\n",
       "    <tr>\n",
       "      <th>max</th>\n",
       "      <td>2015.000000</td>\n",
       "      <td>89.000000</td>\n",
       "      <td>723.000000</td>\n",
       "      <td>1800.000000</td>\n",
       "      <td>17.870000</td>\n",
       "      <td>19479.911610</td>\n",
       "      <td>99.000000</td>\n",
       "      <td>212183.000000</td>\n",
       "      <td>87.300000</td>\n",
       "      <td>2500.000000</td>\n",
       "      <td>99.000000</td>\n",
       "      <td>17.60000</td>\n",
       "      <td>99.000000</td>\n",
       "      <td>50.600000</td>\n",
       "      <td>119172.741800</td>\n",
       "      <td>1.293859e+09</td>\n",
       "      <td>27.700000</td>\n",
       "      <td>28.600000</td>\n",
       "      <td>0.948000</td>\n",
       "      <td>20.700000</td>\n",
       "    </tr>\n",
       "  </tbody>\n",
       "</table>\n",
       "</div>"
      ],
      "text/plain": [
       "              Year  Life expectancy   Adult Mortality  infant deaths  \\\n",
       "count  2938.000000       2928.000000      2928.000000    2938.000000   \n",
       "mean   2007.518720         69.224932       164.796448      30.303948   \n",
       "std       4.613841          9.523867       124.292079     117.926501   \n",
       "min    2000.000000         36.300000         1.000000       0.000000   \n",
       "25%    2004.000000         63.100000        74.000000       0.000000   \n",
       "50%    2008.000000         72.100000       144.000000       3.000000   \n",
       "75%    2012.000000         75.700000       228.000000      22.000000   \n",
       "max    2015.000000         89.000000       723.000000    1800.000000   \n",
       "\n",
       "           Alcohol  percentage expenditure  Hepatitis B       Measles   \\\n",
       "count  2744.000000             2938.000000  2385.000000    2938.000000   \n",
       "mean      4.602861              738.251295    80.940461    2419.592240   \n",
       "std       4.052413             1987.914858    25.070016   11467.272489   \n",
       "min       0.010000                0.000000     1.000000       0.000000   \n",
       "25%       0.877500                4.685343    77.000000       0.000000   \n",
       "50%       3.755000               64.912906    92.000000      17.000000   \n",
       "75%       7.702500              441.534144    97.000000     360.250000   \n",
       "max      17.870000            19479.911610    99.000000  212183.000000   \n",
       "\n",
       "              BMI   under-five deaths         Polio  Total expenditure  \\\n",
       "count  2904.000000         2938.000000  2919.000000         2712.00000   \n",
       "mean     38.321247           42.035739    82.550188            5.93819   \n",
       "std      20.044034          160.445548    23.428046            2.49832   \n",
       "min       1.000000            0.000000     3.000000            0.37000   \n",
       "25%      19.300000            0.000000    78.000000            4.26000   \n",
       "50%      43.500000            4.000000    93.000000            5.75500   \n",
       "75%      56.200000           28.000000    97.000000            7.49250   \n",
       "max      87.300000         2500.000000    99.000000           17.60000   \n",
       "\n",
       "       Diphtheria      HIV/AIDS            GDP    Population  \\\n",
       "count  2919.000000  2938.000000    2490.000000  2.286000e+03   \n",
       "mean     82.324084     1.742103    7483.158469  1.275338e+07   \n",
       "std      23.716912     5.077785   14270.169342  6.101210e+07   \n",
       "min       2.000000     0.100000       1.681350  3.400000e+01   \n",
       "25%      78.000000     0.100000     463.935626  1.957932e+05   \n",
       "50%      93.000000     0.100000    1766.947595  1.386542e+06   \n",
       "75%      97.000000     0.800000    5910.806335  7.420359e+06   \n",
       "max      99.000000    50.600000  119172.741800  1.293859e+09   \n",
       "\n",
       "        thinness  1-19 years   thinness 5-9 years  \\\n",
       "count            2904.000000          2904.000000   \n",
       "mean                4.839704             4.870317   \n",
       "std                 4.420195             4.508882   \n",
       "min                 0.100000             0.100000   \n",
       "25%                 1.600000             1.500000   \n",
       "50%                 3.300000             3.300000   \n",
       "75%                 7.200000             7.200000   \n",
       "max                27.700000            28.600000   \n",
       "\n",
       "       Income composition of resources    Schooling  \n",
       "count                      2771.000000  2775.000000  \n",
       "mean                          0.627551    11.992793  \n",
       "std                           0.210904     3.358920  \n",
       "min                           0.000000     0.000000  \n",
       "25%                           0.493000    10.100000  \n",
       "50%                           0.677000    12.300000  \n",
       "75%                           0.779000    14.300000  \n",
       "max                           0.948000    20.700000  "
      ]
     },
     "execution_count": 4,
     "metadata": {},
     "output_type": "execute_result"
    }
   ],
   "source": [
    "# Download the data\n",
    "download_url(DATASET_URL, '.')\n",
    "dataframe = pd.read_csv(DATA_FILENAME)\n",
    "\n",
    "dataframe.describe()"
   ]
  },
  {
   "cell_type": "markdown",
   "metadata": {},
   "source": [
    "## Cleaning the data"
   ]
  },
  {
   "cell_type": "markdown",
   "metadata": {},
   "source": [
    "Some cell names have trailing spaces or are composed of two separate names, I am gonna fix that and impose a more consistent naming scheme"
   ]
  },
  {
   "cell_type": "code",
   "execution_count": 5,
   "metadata": {},
   "outputs": [
    {
     "data": {
      "text/html": [
       "<div>\n",
       "<style scoped>\n",
       "    .dataframe tbody tr th:only-of-type {\n",
       "        vertical-align: middle;\n",
       "    }\n",
       "\n",
       "    .dataframe tbody tr th {\n",
       "        vertical-align: top;\n",
       "    }\n",
       "\n",
       "    .dataframe thead th {\n",
       "        text-align: right;\n",
       "    }\n",
       "</style>\n",
       "<table border=\"1\" class=\"dataframe\">\n",
       "  <thead>\n",
       "    <tr style=\"text-align: right;\">\n",
       "      <th></th>\n",
       "      <th>Country</th>\n",
       "      <th>Year</th>\n",
       "      <th>Status</th>\n",
       "      <th>Life_Expectancy</th>\n",
       "      <th>Adult_Mortality</th>\n",
       "      <th>Infant_Deaths</th>\n",
       "      <th>Alcohol</th>\n",
       "      <th>Percentage_Exp</th>\n",
       "      <th>HepatitisB</th>\n",
       "      <th>Measles</th>\n",
       "      <th>...</th>\n",
       "      <th>Polio</th>\n",
       "      <th>Tot_Exp</th>\n",
       "      <th>Diphtheria</th>\n",
       "      <th>HIV/AIDS</th>\n",
       "      <th>GDP</th>\n",
       "      <th>Population</th>\n",
       "      <th>thinness_1to19_years</th>\n",
       "      <th>thinness_5to9_years</th>\n",
       "      <th>Income_Comp_Of_Resources</th>\n",
       "      <th>Schooling</th>\n",
       "    </tr>\n",
       "  </thead>\n",
       "  <tbody>\n",
       "    <tr>\n",
       "      <th>0</th>\n",
       "      <td>Afghanistan</td>\n",
       "      <td>2015</td>\n",
       "      <td>Developing</td>\n",
       "      <td>65.0</td>\n",
       "      <td>263.0</td>\n",
       "      <td>62</td>\n",
       "      <td>0.01</td>\n",
       "      <td>71.279624</td>\n",
       "      <td>65.0</td>\n",
       "      <td>1154</td>\n",
       "      <td>...</td>\n",
       "      <td>6.0</td>\n",
       "      <td>8.16</td>\n",
       "      <td>65.0</td>\n",
       "      <td>0.1</td>\n",
       "      <td>584.259210</td>\n",
       "      <td>33736494.0</td>\n",
       "      <td>17.2</td>\n",
       "      <td>17.3</td>\n",
       "      <td>0.479</td>\n",
       "      <td>10.1</td>\n",
       "    </tr>\n",
       "    <tr>\n",
       "      <th>1</th>\n",
       "      <td>Afghanistan</td>\n",
       "      <td>2014</td>\n",
       "      <td>Developing</td>\n",
       "      <td>59.9</td>\n",
       "      <td>271.0</td>\n",
       "      <td>64</td>\n",
       "      <td>0.01</td>\n",
       "      <td>73.523582</td>\n",
       "      <td>62.0</td>\n",
       "      <td>492</td>\n",
       "      <td>...</td>\n",
       "      <td>58.0</td>\n",
       "      <td>8.18</td>\n",
       "      <td>62.0</td>\n",
       "      <td>0.1</td>\n",
       "      <td>612.696514</td>\n",
       "      <td>327582.0</td>\n",
       "      <td>17.5</td>\n",
       "      <td>17.5</td>\n",
       "      <td>0.476</td>\n",
       "      <td>10.0</td>\n",
       "    </tr>\n",
       "    <tr>\n",
       "      <th>2</th>\n",
       "      <td>Afghanistan</td>\n",
       "      <td>2013</td>\n",
       "      <td>Developing</td>\n",
       "      <td>59.9</td>\n",
       "      <td>268.0</td>\n",
       "      <td>66</td>\n",
       "      <td>0.01</td>\n",
       "      <td>73.219243</td>\n",
       "      <td>64.0</td>\n",
       "      <td>430</td>\n",
       "      <td>...</td>\n",
       "      <td>62.0</td>\n",
       "      <td>8.13</td>\n",
       "      <td>64.0</td>\n",
       "      <td>0.1</td>\n",
       "      <td>631.744976</td>\n",
       "      <td>31731688.0</td>\n",
       "      <td>17.7</td>\n",
       "      <td>17.7</td>\n",
       "      <td>0.470</td>\n",
       "      <td>9.9</td>\n",
       "    </tr>\n",
       "    <tr>\n",
       "      <th>3</th>\n",
       "      <td>Afghanistan</td>\n",
       "      <td>2012</td>\n",
       "      <td>Developing</td>\n",
       "      <td>59.5</td>\n",
       "      <td>272.0</td>\n",
       "      <td>69</td>\n",
       "      <td>0.01</td>\n",
       "      <td>78.184215</td>\n",
       "      <td>67.0</td>\n",
       "      <td>2787</td>\n",
       "      <td>...</td>\n",
       "      <td>67.0</td>\n",
       "      <td>8.52</td>\n",
       "      <td>67.0</td>\n",
       "      <td>0.1</td>\n",
       "      <td>669.959000</td>\n",
       "      <td>3696958.0</td>\n",
       "      <td>17.9</td>\n",
       "      <td>18.0</td>\n",
       "      <td>0.463</td>\n",
       "      <td>9.8</td>\n",
       "    </tr>\n",
       "    <tr>\n",
       "      <th>4</th>\n",
       "      <td>Afghanistan</td>\n",
       "      <td>2011</td>\n",
       "      <td>Developing</td>\n",
       "      <td>59.2</td>\n",
       "      <td>275.0</td>\n",
       "      <td>71</td>\n",
       "      <td>0.01</td>\n",
       "      <td>7.097109</td>\n",
       "      <td>68.0</td>\n",
       "      <td>3013</td>\n",
       "      <td>...</td>\n",
       "      <td>68.0</td>\n",
       "      <td>7.87</td>\n",
       "      <td>68.0</td>\n",
       "      <td>0.1</td>\n",
       "      <td>63.537231</td>\n",
       "      <td>2978599.0</td>\n",
       "      <td>18.2</td>\n",
       "      <td>18.2</td>\n",
       "      <td>0.454</td>\n",
       "      <td>9.5</td>\n",
       "    </tr>\n",
       "  </tbody>\n",
       "</table>\n",
       "<p>5 rows × 22 columns</p>\n",
       "</div>"
      ],
      "text/plain": [
       "       Country  Year      Status  Life_Expectancy  Adult_Mortality  \\\n",
       "0  Afghanistan  2015  Developing             65.0            263.0   \n",
       "1  Afghanistan  2014  Developing             59.9            271.0   \n",
       "2  Afghanistan  2013  Developing             59.9            268.0   \n",
       "3  Afghanistan  2012  Developing             59.5            272.0   \n",
       "4  Afghanistan  2011  Developing             59.2            275.0   \n",
       "\n",
       "   Infant_Deaths  Alcohol  Percentage_Exp  HepatitisB  Measles  ...  Polio  \\\n",
       "0             62     0.01       71.279624        65.0     1154  ...    6.0   \n",
       "1             64     0.01       73.523582        62.0      492  ...   58.0   \n",
       "2             66     0.01       73.219243        64.0      430  ...   62.0   \n",
       "3             69     0.01       78.184215        67.0     2787  ...   67.0   \n",
       "4             71     0.01        7.097109        68.0     3013  ...   68.0   \n",
       "\n",
       "   Tot_Exp  Diphtheria  HIV/AIDS         GDP  Population  \\\n",
       "0     8.16        65.0       0.1  584.259210  33736494.0   \n",
       "1     8.18        62.0       0.1  612.696514    327582.0   \n",
       "2     8.13        64.0       0.1  631.744976  31731688.0   \n",
       "3     8.52        67.0       0.1  669.959000   3696958.0   \n",
       "4     7.87        68.0       0.1   63.537231   2978599.0   \n",
       "\n",
       "   thinness_1to19_years  thinness_5to9_years  Income_Comp_Of_Resources  \\\n",
       "0                  17.2                 17.3                     0.479   \n",
       "1                  17.5                 17.5                     0.476   \n",
       "2                  17.7                 17.7                     0.470   \n",
       "3                  17.9                 18.0                     0.463   \n",
       "4                  18.2                 18.2                     0.454   \n",
       "\n",
       "   Schooling  \n",
       "0       10.1  \n",
       "1       10.0  \n",
       "2        9.9  \n",
       "3        9.8  \n",
       "4        9.5  \n",
       "\n",
       "[5 rows x 22 columns]"
      ]
     },
     "execution_count": 5,
     "metadata": {},
     "output_type": "execute_result"
    }
   ],
   "source": [
    "# Renaming some column names as they contain trailing spaces.\n",
    "dataframe.rename(columns={\" BMI \":\"BMI\",\"Life expectancy \":\"Life_Expectancy\",\"Adult Mortality\":\"Adult_Mortality\",\n",
    "                   \"infant deaths\":\"Infant_Deaths\",\"percentage expenditure\":\"Percentage_Exp\",\"Hepatitis B\":\"HepatitisB\",\n",
    "                  \"Measles \":\"Measles\",\" BMI \":\"BMI\",\"under-five deaths \":\"Under_Five_Deaths\",\"Diphtheria \":\"Diphtheria\",\n",
    "                  \" HIV/AIDS\":\"HIV/AIDS\",\" thinness  1-19 years\":\"thinness_1to19_years\",\" thinness 5-9 years\":\"thinness_5to9_years\",\"Income composition of resources\":\"Income_Comp_Of_Resources\",\n",
    "                   \"Total expenditure\":\"Tot_Exp\"},inplace=True)\n",
    "dataframe.head()"
   ]
  },
  {
   "cell_type": "markdown",
   "metadata": {},
   "source": [
    "I am gonna check if the data type is appropriate for every column"
   ]
  },
  {
   "cell_type": "code",
   "execution_count": 6,
   "metadata": {},
   "outputs": [
    {
     "name": "stdout",
     "output_type": "stream",
     "text": [
      "<class 'pandas.core.frame.DataFrame'>\n",
      "RangeIndex: 2938 entries, 0 to 2937\n",
      "Data columns (total 22 columns):\n",
      " #   Column                    Non-Null Count  Dtype  \n",
      "---  ------                    --------------  -----  \n",
      " 0   Country                   2938 non-null   object \n",
      " 1   Year                      2938 non-null   int64  \n",
      " 2   Status                    2938 non-null   object \n",
      " 3   Life_Expectancy           2928 non-null   float64\n",
      " 4   Adult_Mortality           2928 non-null   float64\n",
      " 5   Infant_Deaths             2938 non-null   int64  \n",
      " 6   Alcohol                   2744 non-null   float64\n",
      " 7   Percentage_Exp            2938 non-null   float64\n",
      " 8   HepatitisB                2385 non-null   float64\n",
      " 9   Measles                   2938 non-null   int64  \n",
      " 10  BMI                       2904 non-null   float64\n",
      " 11  Under_Five_Deaths         2938 non-null   int64  \n",
      " 12  Polio                     2919 non-null   float64\n",
      " 13  Tot_Exp                   2712 non-null   float64\n",
      " 14  Diphtheria                2919 non-null   float64\n",
      " 15  HIV/AIDS                  2938 non-null   float64\n",
      " 16  GDP                       2490 non-null   float64\n",
      " 17  Population                2286 non-null   float64\n",
      " 18  thinness_1to19_years      2904 non-null   float64\n",
      " 19  thinness_5to9_years       2904 non-null   float64\n",
      " 20  Income_Comp_Of_Resources  2771 non-null   float64\n",
      " 21  Schooling                 2775 non-null   float64\n",
      "dtypes: float64(16), int64(4), object(2)\n",
      "memory usage: 505.1+ KB\n"
     ]
    }
   ],
   "source": [
    "# Verifying whether data for each variable is according to its dataype or not.\n",
    "dataframe.info()"
   ]
  },
  {
   "cell_type": "markdown",
   "metadata": {},
   "source": [
    "The data type is consistent but many values are missing"
   ]
  },
  {
   "cell_type": "code",
   "execution_count": 7,
   "metadata": {},
   "outputs": [
    {
     "data": {
      "text/plain": [
       "Country                      0.000000\n",
       "Year                         0.000000\n",
       "Status                       0.000000\n",
       "Life_Expectancy              0.340368\n",
       "Adult_Mortality              0.340368\n",
       "Infant_Deaths                0.000000\n",
       "Alcohol                      6.603131\n",
       "Percentage_Exp               0.000000\n",
       "HepatitisB                  18.822328\n",
       "Measles                      0.000000\n",
       "BMI                          1.157250\n",
       "Under_Five_Deaths            0.000000\n",
       "Polio                        0.646698\n",
       "Tot_Exp                      7.692308\n",
       "Diphtheria                   0.646698\n",
       "HIV/AIDS                     0.000000\n",
       "GDP                         15.248468\n",
       "Population                  22.191967\n",
       "thinness_1to19_years         1.157250\n",
       "thinness_5to9_years          1.157250\n",
       "Income_Comp_Of_Resources     5.684139\n",
       "Schooling                    5.547992\n",
       "dtype: float64"
      ]
     },
     "execution_count": 7,
     "metadata": {},
     "output_type": "execute_result"
    }
   ],
   "source": [
    "# Identify percentage of null values in each column.\n",
    "dataframe.isnull().sum()*100/dataframe.isnull().count()"
   ]
  },
  {
   "cell_type": "code",
   "execution_count": 8,
   "metadata": {},
   "outputs": [],
   "source": [
    "# save the countries in a list\n",
    "country_list = dataframe.Country.unique()\n",
    "\n",
    "# list containing incomplete columns\n",
    "fill_list = ['Life_Expectancy','Adult_Mortality','Alcohol','HepatitisB','BMI','Polio','Tot_Exp','Diphtheria','GDP','Population','thinness_1to19_years','thinness_5to9_years','Income_Comp_Of_Resources','Schooling']"
   ]
  },
  {
   "cell_type": "code",
   "execution_count": 9,
   "metadata": {},
   "outputs": [],
   "source": [
    "# Treat null values using interpolation.\n",
    "for country in country_list:\n",
    "    dataframe.loc[dataframe['Country'] == country,fill_list] = dataframe.loc[dataframe['Country'] == country,fill_list].interpolate()\n",
    "    \n",
    "# Drop remaining null values after interpolation.\n",
    "dataframe.dropna(inplace=True)"
   ]
  },
  {
   "cell_type": "code",
   "execution_count": 10,
   "metadata": {},
   "outputs": [
    {
     "data": {
      "text/plain": [
       "Country                     0\n",
       "Year                        0\n",
       "Status                      0\n",
       "Life_Expectancy             0\n",
       "Adult_Mortality             0\n",
       "Infant_Deaths               0\n",
       "Alcohol                     0\n",
       "Percentage_Exp              0\n",
       "HepatitisB                  0\n",
       "Measles                     0\n",
       "BMI                         0\n",
       "Under_Five_Deaths           0\n",
       "Polio                       0\n",
       "Tot_Exp                     0\n",
       "Diphtheria                  0\n",
       "HIV/AIDS                    0\n",
       "GDP                         0\n",
       "Population                  0\n",
       "thinness_1to19_years        0\n",
       "thinness_5to9_years         0\n",
       "Income_Comp_Of_Resources    0\n",
       "Schooling                   0\n",
       "dtype: int64"
      ]
     },
     "execution_count": 10,
     "metadata": {},
     "output_type": "execute_result"
    }
   ],
   "source": [
    "# Verifying null-values after applying above methods.\n",
    "dataframe.isnull().sum()"
   ]
  },
  {
   "cell_type": "markdown",
   "metadata": {},
   "source": [
    "## Data analysis"
   ]
  },
  {
   "cell_type": "markdown",
   "metadata": {},
   "source": [
    "We are gonna look for relevant correlations to decide which columns we will use to train our model"
   ]
  },
  {
   "cell_type": "markdown",
   "metadata": {},
   "source": [
    "Let's start with some general statistics about our data"
   ]
  },
  {
   "cell_type": "code",
   "execution_count": 11,
   "metadata": {},
   "outputs": [
    {
     "data": {
      "image/png": "[encoded data removed]",
      "text/plain": [
       "<Figure size 288x360 with 1 Axes>"
      ]
     },
     "metadata": {
      "needs_background": "light"
     },
     "output_type": "display_data"
    }
   ],
   "source": [
    "# Life_Expectancy w.r.t Year using bar plot.\n",
    "plt.figure(figsize=(4,5))\n",
    "plt.bar(dataframe.groupby('Status')['Status'].count().index,dataframe.groupby('Status')['Life_Expectancy'].mean(),color='blue',alpha=0.50)\n",
    "plt.xlabel(\"Country Status\",fontsize=12)\n",
    "plt.ylabel(\"Avg Life_Expectancy\",fontsize=12)\n",
    "plt.title(\"Life_Expectancy w.r.t Country Development\")\n",
    "plt.show()"
   ]
  },
  {
   "cell_type": "code",
   "execution_count": 12,
   "metadata": {},
   "outputs": [
    {
     "data": {
      "text/html": [
       "<div>\n",
       "<style scoped>\n",
       "    .dataframe tbody tr th:only-of-type {\n",
       "        vertical-align: middle;\n",
       "    }\n",
       "\n",
       "    .dataframe tbody tr th {\n",
       "        vertical-align: top;\n",
       "    }\n",
       "\n",
       "    .dataframe thead th {\n",
       "        text-align: right;\n",
       "    }\n",
       "</style>\n",
       "<table border=\"1\" class=\"dataframe\">\n",
       "  <thead>\n",
       "    <tr style=\"text-align: right;\">\n",
       "      <th></th>\n",
       "      <th>Life_Expectancy</th>\n",
       "    </tr>\n",
       "    <tr>\n",
       "      <th>Status</th>\n",
       "      <th></th>\n",
       "    </tr>\n",
       "  </thead>\n",
       "  <tbody>\n",
       "    <tr>\n",
       "      <th>Developed</th>\n",
       "      <td>78.83</td>\n",
       "    </tr>\n",
       "    <tr>\n",
       "      <th>Developing</th>\n",
       "      <td>66.16</td>\n",
       "    </tr>\n",
       "  </tbody>\n",
       "</table>\n",
       "</div>"
      ],
      "text/plain": [
       "            Life_Expectancy\n",
       "Status                     \n",
       "Developed             78.83\n",
       "Developing            66.16"
      ]
     },
     "execution_count": 12,
     "metadata": {},
     "output_type": "execute_result"
    }
   ],
   "source": [
    "round(dataframe[['Status','Life_Expectancy']].groupby(['Status']).mean(),2)"
   ]
  },
  {
   "cell_type": "code",
   "execution_count": 13,
   "metadata": {},
   "outputs": [
    {
     "data": {
      "image/png": "[encoded data removed]",
      "text/plain": [
       "<Figure size 504x360 with 1 Axes>"
      ]
     },
     "metadata": {
      "needs_background": "light"
     },
     "output_type": "display_data"
    }
   ],
   "source": [
    "# Life_Expectancy w.r.t Year using bar plot.\n",
    "plt.figure(figsize=(7,5))\n",
    "plt.bar(dataframe.groupby('Year')['Year'].count().index,dataframe.groupby('Year')['Life_Expectancy'].mean(),color='pink',alpha=0.65)\n",
    "plt.xlabel(\"Year\",fontsize=12)\n",
    "plt.ylabel(\"Avg Life_Expectancy\",fontsize=12)\n",
    "plt.title(\"Life_Expectancy w.r.t Year\")\n",
    "plt.show()"
   ]
  },
  {
   "cell_type": "markdown",
   "metadata": {},
   "source": [
    "So there is a definite difference between developed countries and the rest, but at least the life expectancy improves every year.  \n",
    "Now let's try to figure out wich features affect life expectancy the most."
   ]
  },
  {
   "cell_type": "code",
   "execution_count": 14,
   "metadata": {},
   "outputs": [
    {
     "data": {
      "text/plain": [
       "<matplotlib.collections.PathCollection at 0x7fb7b4bf3710>"
      ]
     },
     "execution_count": 14,
     "metadata": {},
     "output_type": "execute_result"
    },
    {
     "data": {
      "image/png": "[encoded data removed]",
      "text/plain": [
       "<Figure size 504x360 with 1 Axes>"
      ]
     },
     "metadata": {
      "needs_background": "light"
     },
     "output_type": "display_data"
    }
   ],
   "source": [
    "plt.figure(figsize=(7,5))\n",
    "plt.title(\"LifeExpectancy w.r.t Income_Comp_Of_Resources\")\n",
    "plt.xlabel(\"Income\",fontsize=12)\n",
    "plt.ylabel(\"Life_Expectancy\",fontsize=12)\n",
    "plt.scatter(dataframe[\"Income_Comp_Of_Resources\"], dataframe[\"Life_Expectancy\"])"
   ]
  },
  {
   "cell_type": "code",
   "execution_count": 45,
   "metadata": {},
   "outputs": [
    {
     "data": {
      "text/plain": [
       "<matplotlib.collections.PathCollection at 0x7fb7b4bee890>"
      ]
     },
     "execution_count": 45,
     "metadata": {},
     "output_type": "execute_result"
    },
    {
     "data": {
      "image/png": "[encoded data removed]",
      "text/plain": [
       "<Figure size 504x360 with 1 Axes>"
      ]
     },
     "metadata": {
      "needs_background": "light"
     },
     "output_type": "display_data"
    }
   ],
   "source": [
    "plt.figure(figsize=(7,5))\n",
    "plt.title(\"LifeExpectancy w.r.t years spent in school\")\n",
    "plt.xlabel(\"Years of schooling\",fontsize=12)\n",
    "plt.ylabel(\"Life_Expectancy\",fontsize=12)\n",
    "plt.scatter(dataframe[\"Schooling\"], dataframe[\"Life_Expectancy\"])"
   ]
  },
  {
   "cell_type": "code",
   "execution_count": 16,
   "metadata": {},
   "outputs": [
    {
     "data": {
      "text/plain": [
       "<matplotlib.collections.PathCollection at 0x7fb7b4b3dfd0>"
      ]
     },
     "execution_count": 16,
     "metadata": {},
     "output_type": "execute_result"
    },
    {
     "data": {
      "image/png": "[encoded data removed]",
      "text/plain": [
       "<Figure size 504x360 with 1 Axes>"
      ]
     },
     "metadata": {
      "needs_background": "light"
     },
     "output_type": "display_data"
    }
   ],
   "source": [
    "plt.figure(figsize=(7,5))\n",
    "plt.title(\"Income w.r.t years spent in school\")\n",
    "plt.xlabel(\"Years of schooling\",fontsize=12)\n",
    "plt.ylabel(\"Income\",fontsize=12)\n",
    "plt.scatter(dataframe[\"Schooling\"], dataframe[\"Income_Comp_Of_Resources\"])"
   ]
  },
  {
   "cell_type": "markdown",
   "metadata": {},
   "source": [
    "We can infer that schooling and income composition are positively correlated between themselves and with life expectancy"
   ]
  },
  {
   "cell_type": "code",
   "execution_count": 17,
   "metadata": {},
   "outputs": [
    {
     "data": {
      "text/plain": [
       "<matplotlib.collections.PathCollection at 0x7fb7b4aa8d50>"
      ]
     },
     "execution_count": 17,
     "metadata": {},
     "output_type": "execute_result"
    },
    {
     "data": {
      "image/png": "[encoded data removed]",
      "text/plain": [
       "<Figure size 504x360 with 1 Axes>"
      ]
     },
     "metadata": {
      "needs_background": "light"
     },
     "output_type": "display_data"
    }
   ],
   "source": [
    "plt.figure(figsize=(7,5))\n",
    "plt.title(\"LifeExpectancy w.r.t Adult Mortality\")\n",
    "plt.xlabel(\"Adult Mortality\",fontsize=12)\n",
    "plt.ylabel(\"Life_Expectancy\",fontsize=12)\n",
    "plt.scatter(dataframe[\"Adult_Mortality\"], dataframe[\"Life_Expectancy\"])"
   ]
  },
  {
   "cell_type": "code",
   "execution_count": 18,
   "metadata": {},
   "outputs": [
    {
     "data": {
      "text/plain": [
       "<matplotlib.collections.PathCollection at 0x7fb7b4a7d8d0>"
      ]
     },
     "execution_count": 18,
     "metadata": {},
     "output_type": "execute_result"
    },
    {
     "data": {
      "image/png": "[encoded data removed]",
      "text/plain": [
       "<Figure size 504x360 with 1 Axes>"
      ]
     },
     "metadata": {
      "needs_background": "light"
     },
     "output_type": "display_data"
    }
   ],
   "source": [
    "plt.figure(figsize=(7,5))\n",
    "plt.title(\"LifeExpectancy w.r.t GDP\")\n",
    "plt.xlabel(\"GDP\",fontsize=12)\n",
    "plt.ylabel(\"Life_Expectancy\",fontsize=12)\n",
    "plt.scatter(dataframe[\"GDP\"], dataframe[\"Life_Expectancy\"])"
   ]
  },
  {
   "cell_type": "code",
   "execution_count": 19,
   "metadata": {},
   "outputs": [
    {
     "data": {
      "text/plain": [
       "<matplotlib.collections.PathCollection at 0x7fb7b49265d0>"
      ]
     },
     "execution_count": 19,
     "metadata": {},
     "output_type": "execute_result"
    },
    {
     "data": {
      "image/png": "[encoded data removed]",
      "text/plain": [
       "<Figure size 864x2736 with 4 Axes>"
      ]
     },
     "metadata": {
      "needs_background": "light"
     },
     "output_type": "display_data"
    }
   ],
   "source": [
    "plt.figure(figsize=(12, 38))\n",
    "\n",
    "plt.subplot(8,2,1)\n",
    "plt.title(\"LifeExpectancy & GDP\")\n",
    "plt.scatter(dataframe[\"GDP\"], dataframe[\"Life_Expectancy\"])\n",
    "\n",
    "plt.subplot(8,2,2)\n",
    "plt.title(\"LifeExpectancy & Adult Mortality\")\n",
    "plt.scatter(dataframe[\"Adult_Mortality\"], dataframe[\"Life_Expectancy\"])\n",
    "\n",
    "plt.subplot(8,2,3)\n",
    "plt.title(\"LifeExpectancy & Schooling\")\n",
    "plt.scatter(dataframe[\"Schooling\"], dataframe[\"Life_Expectancy\"])\n",
    "\n",
    "plt.subplot(8,2,4)\n",
    "plt.title(\"LifeExpectancy & Income_Comp_Of_Resources\")\n",
    "plt.scatter(dataframe[\"Income_Comp_Of_Resources\"], dataframe[\"Life_Expectancy\"])"
   ]
  },
  {
   "cell_type": "markdown",
   "metadata": {},
   "source": [
    "The four features shown above plus the status of the country will be used for building the machine learning model"
   ]
  },
  {
   "cell_type": "markdown",
   "metadata": {},
   "source": [
    "## Data loaders"
   ]
  },
  {
   "cell_type": "markdown",
   "metadata": {},
   "source": [
    "Now I will prepare the designated column into the data that will be used in the ml model"
   ]
  },
  {
   "cell_type": "code",
   "execution_count": 20,
   "metadata": {},
   "outputs": [
    {
     "data": {
      "text/html": [
       "<div>\n",
       "<style scoped>\n",
       "    .dataframe tbody tr th:only-of-type {\n",
       "        vertical-align: middle;\n",
       "    }\n",
       "\n",
       "    .dataframe tbody tr th {\n",
       "        vertical-align: top;\n",
       "    }\n",
       "\n",
       "    .dataframe thead th {\n",
       "        text-align: right;\n",
       "    }\n",
       "</style>\n",
       "<table border=\"1\" class=\"dataframe\">\n",
       "  <thead>\n",
       "    <tr style=\"text-align: right;\">\n",
       "      <th></th>\n",
       "      <th>Status</th>\n",
       "      <th>GDP</th>\n",
       "      <th>Adult_Mortality</th>\n",
       "      <th>Schooling</th>\n",
       "      <th>Income_Comp_Of_Resources</th>\n",
       "    </tr>\n",
       "  </thead>\n",
       "  <tbody>\n",
       "    <tr>\n",
       "      <th>0</th>\n",
       "      <td>Developing</td>\n",
       "      <td>584.259210</td>\n",
       "      <td>263.0</td>\n",
       "      <td>10.1</td>\n",
       "      <td>0.479</td>\n",
       "    </tr>\n",
       "    <tr>\n",
       "      <th>1</th>\n",
       "      <td>Developing</td>\n",
       "      <td>612.696514</td>\n",
       "      <td>271.0</td>\n",
       "      <td>10.0</td>\n",
       "      <td>0.476</td>\n",
       "    </tr>\n",
       "    <tr>\n",
       "      <th>2</th>\n",
       "      <td>Developing</td>\n",
       "      <td>631.744976</td>\n",
       "      <td>268.0</td>\n",
       "      <td>9.9</td>\n",
       "      <td>0.470</td>\n",
       "    </tr>\n",
       "    <tr>\n",
       "      <th>3</th>\n",
       "      <td>Developing</td>\n",
       "      <td>669.959000</td>\n",
       "      <td>272.0</td>\n",
       "      <td>9.8</td>\n",
       "      <td>0.463</td>\n",
       "    </tr>\n",
       "    <tr>\n",
       "      <th>4</th>\n",
       "      <td>Developing</td>\n",
       "      <td>63.537231</td>\n",
       "      <td>275.0</td>\n",
       "      <td>9.5</td>\n",
       "      <td>0.454</td>\n",
       "    </tr>\n",
       "  </tbody>\n",
       "</table>\n",
       "</div>"
      ],
      "text/plain": [
       "       Status         GDP  Adult_Mortality  Schooling  \\\n",
       "0  Developing  584.259210            263.0       10.1   \n",
       "1  Developing  612.696514            271.0       10.0   \n",
       "2  Developing  631.744976            268.0        9.9   \n",
       "3  Developing  669.959000            272.0        9.8   \n",
       "4  Developing   63.537231            275.0        9.5   \n",
       "\n",
       "   Income_Comp_Of_Resources  \n",
       "0                     0.479  \n",
       "1                     0.476  \n",
       "2                     0.470  \n",
       "3                     0.463  \n",
       "4                     0.454  "
      ]
     },
     "execution_count": 20,
     "metadata": {},
     "output_type": "execute_result"
    }
   ],
   "source": [
    "# label the designated data\n",
    "num_rows = dataframe.index.size\n",
    "categorical_cols = ['Status']\n",
    "TARGET_COLUMN = ['Life_Expectancy']\n",
    "inputs = ['Status', 'GDP', 'Adult_Mortality', 'Schooling', 'Income_Comp_Of_Resources']\n",
    "dataframe[inputs].head()"
   ]
  },
  {
   "cell_type": "code",
   "execution_count": 21,
   "metadata": {},
   "outputs": [],
   "source": [
    "# Convert from Pandas dataframe to numpy arrays\n",
    "def dataframe_to_arrays(dataframe):\n",
    "    # Make a copy of the original dataframe\n",
    "    dataframe1 = dataframe.copy(deep=True)\n",
    "    # Convert non-numeric categorical columns to numbers\n",
    "    for col in categorical_cols:\n",
    "        dataframe1[col] = dataframe1[col].astype('category').cat.codes\n",
    "    # Extract input & outupts as numpy arrays\n",
    "    inputs_array = dataframe1[inputs].to_numpy()\n",
    "    targets_array = dataframe1[TARGET_COLUMN].to_numpy()\n",
    "    return inputs_array, targets_array"
   ]
  },
  {
   "cell_type": "code",
   "execution_count": 22,
   "metadata": {},
   "outputs": [
    {
     "data": {
      "text/plain": [
       "(array([[1.00000000e+00, 5.84259210e+02, 2.63000000e+02, 1.01000000e+01,\n",
       "         4.79000000e-01],\n",
       "        [1.00000000e+00, 6.12696514e+02, 2.71000000e+02, 1.00000000e+01,\n",
       "         4.76000000e-01],\n",
       "        [1.00000000e+00, 6.31744976e+02, 2.68000000e+02, 9.90000000e+00,\n",
       "         4.70000000e-01],\n",
       "        ...,\n",
       "        [1.00000000e+00, 5.73483400e+01, 7.30000000e+01, 1.00000000e+01,\n",
       "         4.27000000e-01],\n",
       "        [1.00000000e+00, 5.48587312e+02, 6.86000000e+02, 9.80000000e+00,\n",
       "         4.27000000e-01],\n",
       "        [1.00000000e+00, 5.47358879e+02, 6.65000000e+02, 9.80000000e+00,\n",
       "         4.34000000e-01]]), array([[65. ],\n",
       "        [59.9],\n",
       "        [59.9],\n",
       "        ...,\n",
       "        [44.8],\n",
       "        [45.3],\n",
       "        [46. ]]))"
      ]
     },
     "execution_count": 22,
     "metadata": {},
     "output_type": "execute_result"
    }
   ],
   "source": [
    "inputs, targets = dataframe_to_arrays(dataframe)\n",
    "inputs, targets"
   ]
  },
  {
   "cell_type": "code",
   "execution_count": 23,
   "metadata": {},
   "outputs": [
    {
     "data": {
      "text/plain": [
       "((1987, 5), (1987, 1))"
      ]
     },
     "execution_count": 23,
     "metadata": {},
     "output_type": "execute_result"
    }
   ],
   "source": [
    "inputs.shape, targets.shape"
   ]
  },
  {
   "cell_type": "code",
   "execution_count": 24,
   "metadata": {},
   "outputs": [],
   "source": [
    "# Convert to PyTorch dataset\n",
    "dataset = TensorDataset(torch.tensor(inputs, dtype=torch.float32), torch.tensor(targets, dtype=torch.float32))\n",
    "\n",
    "val_percent = 0.15 # between 0.1 and 0.2\n",
    "val_size = int(num_rows * val_percent)\n",
    "train_size = num_rows - val_size\n",
    "\n",
    "train_ds, val_ds = random_split(dataset, [train_size, val_size])\n",
    "\n",
    "batch_size=2**9\n",
    "train_loader = DataLoader(train_ds, batch_size, shuffle=True)\n",
    "val_loader = DataLoader(val_ds, batch_size*2)"
   ]
  },
  {
   "cell_type": "markdown",
   "metadata": {},
   "source": [
    "## Model"
   ]
  },
  {
   "cell_type": "code",
   "execution_count": 25,
   "metadata": {},
   "outputs": [],
   "source": [
    "class LifeModel(nn.Module):\n",
    "    def __init__(self):\n",
    "        super().__init__()\n",
    "        self.linear = nn.Linear(input_size, output_size)\n",
    "        \n",
    "    def forward(self, xb):\n",
    "        out = self.linear(xb)\n",
    "        return out\n",
    "    \n",
    "    def training_step(self, batch):\n",
    "        inputs, targets = batch \n",
    "        out = self(inputs)                 # Generate predictions\n",
    "        loss = F.l1_loss(out, targets)    # Calculate loss\n",
    "        return loss\n",
    "    \n",
    "    def validation_step(self, batch):\n",
    "        inputs, targets = batch \n",
    "        out = self(inputs)                 # Generate predictions\n",
    "        loss = F.l1_loss(out, targets)    # Calculate loss\n",
    "        return {'val_loss': loss.detach()}\n",
    "        \n",
    "    def validation_epoch_end(self, outputs):\n",
    "        batch_losses = [x['val_loss'] for x in outputs]\n",
    "        epoch_loss = torch.stack(batch_losses).mean()   # Combine losses\n",
    "        return {'val_loss': epoch_loss.item()}\n",
    "    \n",
    "    def epoch_end(self, epoch, result, num_epochs):\n",
    "        # Print result every 50th epoch\n",
    "        if (epoch+1) % 50 == 0 or epoch == num_epochs-1:\n",
    "            print(\"Epoch [{}], val_loss: {:.4f}\".format(epoch+1, result['val_loss']))"
   ]
  },
  {
   "cell_type": "markdown",
   "metadata": {},
   "source": [
    "## Training"
   ]
  },
  {
   "cell_type": "code",
   "execution_count": 26,
   "metadata": {},
   "outputs": [
    {
     "name": "stdout",
     "output_type": "stream",
     "text": [
      "inputs: tensor([[1.0000e+00, 4.6971e+03, 9.7000e+01, 1.2400e+01, 7.2300e-01],\n",
      "        [1.0000e+00, 5.1916e+03, 2.9900e+02, 1.1400e+01, 6.0400e-01],\n",
      "        [1.0000e+00, 7.1936e+03, 1.2900e+02, 1.6300e+01, 7.8800e-01],\n",
      "        ...,\n",
      "        [1.0000e+00, 9.2314e+02, 5.6600e+02, 1.0800e+01, 4.5300e-01],\n",
      "        [1.0000e+00, 1.4133e+03, 2.1000e+01, 1.1600e+01, 5.7200e-01],\n",
      "        [1.0000e+00, 8.7315e+02, 1.4900e+02, 1.2600e+01, 6.9900e-01]])\n",
      "targets: tensor([[78.6000],\n",
      "        [63.0000],\n",
      "        [74.8000],\n",
      "        [73.7000],\n",
      "        [77.0000],\n",
      "        [69.4000],\n",
      "        [46.0000],\n",
      "        [58.5000],\n",
      "        [69.3000],\n",
      "        [81.0000],\n",
      "        [73.0000],\n",
      "        [72.3000],\n",
      "        [67.4000],\n",
      "        [56.7000],\n",
      "        [56.7000],\n",
      "        [81.7000],\n",
      "        [71.0000],\n",
      "        [56.1000],\n",
      "        [64.4000],\n",
      "        [74.6000],\n",
      "        [62.7000],\n",
      "        [74.4000],\n",
      "        [73.4000],\n",
      "        [68.1000],\n",
      "        [71.3000],\n",
      "        [76.9000],\n",
      "        [73.9000],\n",
      "        [64.1000],\n",
      "        [48.1000],\n",
      "        [64.7000],\n",
      "        [75.6000],\n",
      "        [73.8000],\n",
      "        [72.6000],\n",
      "        [46.6000],\n",
      "        [71.9000],\n",
      "        [78.0000],\n",
      "        [66.4000],\n",
      "        [64.3000],\n",
      "        [56.6000],\n",
      "        [79.8000],\n",
      "        [57.0000],\n",
      "        [58.6000],\n",
      "        [67.6000],\n",
      "        [44.0000],\n",
      "        [66.8000],\n",
      "        [76.3000],\n",
      "        [82.0000],\n",
      "        [72.0000],\n",
      "        [48.8000],\n",
      "        [73.8000],\n",
      "        [62.5000],\n",
      "        [73.0000],\n",
      "        [77.4000],\n",
      "        [77.0000],\n",
      "        [78.3000],\n",
      "        [66.1000],\n",
      "        [72.4000],\n",
      "        [71.4000],\n",
      "        [49.8000],\n",
      "        [72.7000],\n",
      "        [86.0000],\n",
      "        [59.9000],\n",
      "        [71.2000],\n",
      "        [88.0000],\n",
      "        [71.7000],\n",
      "        [63.3000],\n",
      "        [59.9000],\n",
      "        [72.9000],\n",
      "        [68.0000],\n",
      "        [71.4000],\n",
      "        [69.0000],\n",
      "        [75.6000],\n",
      "        [68.0000],\n",
      "        [57.5000],\n",
      "        [73.1000],\n",
      "        [52.8000],\n",
      "        [45.3000],\n",
      "        [55.5000],\n",
      "        [54.0000],\n",
      "        [79.8000],\n",
      "        [74.1000],\n",
      "        [73.0000],\n",
      "        [68.7000],\n",
      "        [67.2000],\n",
      "        [68.4000],\n",
      "        [53.4000],\n",
      "        [66.0000],\n",
      "        [73.0000],\n",
      "        [61.8000],\n",
      "        [61.4000],\n",
      "        [82.7000],\n",
      "        [57.2000],\n",
      "        [67.8000],\n",
      "        [80.0000],\n",
      "        [73.6000],\n",
      "        [55.4000],\n",
      "        [69.9000],\n",
      "        [72.6000],\n",
      "        [75.6000],\n",
      "        [56.3000],\n",
      "        [73.8000],\n",
      "        [75.9000],\n",
      "        [67.6000],\n",
      "        [61.9000],\n",
      "        [73.5000],\n",
      "        [67.6000],\n",
      "        [49.1000],\n",
      "        [58.1000],\n",
      "        [86.0000],\n",
      "        [82.0000],\n",
      "        [76.2000],\n",
      "        [80.0000],\n",
      "        [55.8000],\n",
      "        [69.9000],\n",
      "        [78.2000],\n",
      "        [76.5000],\n",
      "        [60.0000],\n",
      "        [67.3000],\n",
      "        [54.0000],\n",
      "        [47.8000],\n",
      "        [67.1000],\n",
      "        [47.1000],\n",
      "        [71.0000],\n",
      "        [65.8000],\n",
      "        [69.8000],\n",
      "        [76.6000],\n",
      "        [74.5000],\n",
      "        [65.9000],\n",
      "        [74.1000],\n",
      "        [50.0000],\n",
      "        [62.2000],\n",
      "        [69.6000],\n",
      "        [67.0000],\n",
      "        [48.2000],\n",
      "        [73.4000],\n",
      "        [79.8000],\n",
      "        [76.6000],\n",
      "        [54.3000],\n",
      "        [72.8000],\n",
      "        [77.3000],\n",
      "        [78.0000],\n",
      "        [56.2000],\n",
      "        [56.4000],\n",
      "        [66.8000],\n",
      "        [81.2000],\n",
      "        [59.5000],\n",
      "        [61.6000],\n",
      "        [55.7000],\n",
      "        [75.8000],\n",
      "        [63.5000],\n",
      "        [57.6000],\n",
      "        [71.8000],\n",
      "        [73.5000],\n",
      "        [62.5000],\n",
      "        [67.6000],\n",
      "        [69.6000],\n",
      "        [81.5000],\n",
      "        [58.1000],\n",
      "        [50.0000],\n",
      "        [63.0000],\n",
      "        [71.6000],\n",
      "        [76.0000],\n",
      "        [76.0000],\n",
      "        [71.4000],\n",
      "        [65.6000],\n",
      "        [72.7000],\n",
      "        [78.7000],\n",
      "        [62.0000],\n",
      "        [65.3000],\n",
      "        [63.9000],\n",
      "        [78.0000],\n",
      "        [73.8000],\n",
      "        [56.8000],\n",
      "        [61.4000],\n",
      "        [56.5000],\n",
      "        [75.7000],\n",
      "        [48.1000],\n",
      "        [66.6000],\n",
      "        [69.8000],\n",
      "        [66.9000],\n",
      "        [69.0000],\n",
      "        [83.0000],\n",
      "        [78.9000],\n",
      "        [55.0000],\n",
      "        [64.0000],\n",
      "        [86.0000],\n",
      "        [77.3000],\n",
      "        [75.0000],\n",
      "        [60.0000],\n",
      "        [69.5000],\n",
      "        [57.6000],\n",
      "        [61.1000],\n",
      "        [55.3000],\n",
      "        [89.0000],\n",
      "        [76.6000],\n",
      "        [81.0000],\n",
      "        [78.4000],\n",
      "        [48.9000],\n",
      "        [57.2000],\n",
      "        [74.3000],\n",
      "        [72.5000],\n",
      "        [88.0000],\n",
      "        [77.5000],\n",
      "        [72.8000],\n",
      "        [48.5000],\n",
      "        [73.7000],\n",
      "        [56.7000],\n",
      "        [77.0000],\n",
      "        [69.2000],\n",
      "        [79.9000],\n",
      "        [64.7000],\n",
      "        [75.4000],\n",
      "        [74.0000],\n",
      "        [75.3000],\n",
      "        [67.4000],\n",
      "        [56.5000],\n",
      "        [62.9000],\n",
      "        [73.4000],\n",
      "        [44.6000],\n",
      "        [79.4000],\n",
      "        [78.9000],\n",
      "        [59.9000],\n",
      "        [73.9000],\n",
      "        [73.9000],\n",
      "        [48.7000],\n",
      "        [55.6000],\n",
      "        [69.9000],\n",
      "        [67.5000],\n",
      "        [86.0000],\n",
      "        [57.9000],\n",
      "        [58.9000],\n",
      "        [71.4000],\n",
      "        [58.9000],\n",
      "        [61.6000],\n",
      "        [89.0000],\n",
      "        [52.0000],\n",
      "        [83.0000],\n",
      "        [75.5000],\n",
      "        [77.5000],\n",
      "        [79.2000],\n",
      "        [69.3000],\n",
      "        [63.7000],\n",
      "        [84.0000],\n",
      "        [67.7000],\n",
      "        [64.8000],\n",
      "        [65.6000],\n",
      "        [79.0000],\n",
      "        [65.6000],\n",
      "        [85.0000],\n",
      "        [62.1000],\n",
      "        [65.8000],\n",
      "        [45.3000],\n",
      "        [71.5000],\n",
      "        [49.6000],\n",
      "        [78.0000],\n",
      "        [74.2000],\n",
      "        [79.8000],\n",
      "        [69.1000],\n",
      "        [49.4000],\n",
      "        [62.1000],\n",
      "        [73.7000],\n",
      "        [72.8000],\n",
      "        [65.0000],\n",
      "        [54.1000],\n",
      "        [58.1000],\n",
      "        [81.1000],\n",
      "        [69.0000],\n",
      "        [77.6000],\n",
      "        [65.4000],\n",
      "        [61.2000],\n",
      "        [73.8000],\n",
      "        [60.0000],\n",
      "        [66.1000],\n",
      "        [71.4000],\n",
      "        [56.0000],\n",
      "        [72.3000],\n",
      "        [54.0000],\n",
      "        [68.4000],\n",
      "        [56.9000],\n",
      "        [67.0000],\n",
      "        [57.4000],\n",
      "        [88.0000],\n",
      "        [62.7000],\n",
      "        [71.2000],\n",
      "        [62.0000],\n",
      "        [74.9000],\n",
      "        [74.0000],\n",
      "        [74.2000],\n",
      "        [65.0000],\n",
      "        [71.8000],\n",
      "        [83.0000],\n",
      "        [67.9000],\n",
      "        [72.3000],\n",
      "        [73.3000],\n",
      "        [75.7000],\n",
      "        [64.2000],\n",
      "        [71.1000],\n",
      "        [58.0000],\n",
      "        [45.5000],\n",
      "        [65.8000],\n",
      "        [68.5000],\n",
      "        [75.4000],\n",
      "        [73.3000],\n",
      "        [73.0000],\n",
      "        [75.3000],\n",
      "        [62.1000],\n",
      "        [63.4000],\n",
      "        [71.0000],\n",
      "        [49.7000],\n",
      "        [66.4000],\n",
      "        [73.5000],\n",
      "        [73.2000],\n",
      "        [44.8000],\n",
      "        [72.4000],\n",
      "        [78.6000],\n",
      "        [77.7000],\n",
      "        [56.8000],\n",
      "        [72.9000],\n",
      "        [81.0000],\n",
      "        [73.9000],\n",
      "        [74.4000],\n",
      "        [79.9000],\n",
      "        [65.4000],\n",
      "        [74.7000],\n",
      "        [56.9000],\n",
      "        [63.7000],\n",
      "        [65.4000],\n",
      "        [49.6000],\n",
      "        [68.1000],\n",
      "        [71.2000],\n",
      "        [61.0000],\n",
      "        [72.8000],\n",
      "        [77.3000],\n",
      "        [59.2000],\n",
      "        [59.2000],\n",
      "        [62.9000],\n",
      "        [54.4000],\n",
      "        [69.9000],\n",
      "        [57.4000],\n",
      "        [72.5000],\n",
      "        [58.5000],\n",
      "        [63.0000],\n",
      "        [67.7000],\n",
      "        [69.1000],\n",
      "        [68.2000],\n",
      "        [72.4000],\n",
      "        [66.0000],\n",
      "        [74.5000],\n",
      "        [73.0000],\n",
      "        [62.9000],\n",
      "        [74.0000],\n",
      "        [79.0000],\n",
      "        [67.8000],\n",
      "        [57.6000],\n",
      "        [54.0000],\n",
      "        [81.1000],\n",
      "        [62.5000],\n",
      "        [69.0000],\n",
      "        [56.5000],\n",
      "        [53.2000],\n",
      "        [55.0000],\n",
      "        [75.3000],\n",
      "        [54.1000],\n",
      "        [61.4000],\n",
      "        [72.2000],\n",
      "        [67.8000],\n",
      "        [55.4000],\n",
      "        [75.4000],\n",
      "        [77.0000],\n",
      "        [68.0000],\n",
      "        [73.0000],\n",
      "        [45.3000],\n",
      "        [77.3000],\n",
      "        [81.0000],\n",
      "        [61.8000],\n",
      "        [71.2000],\n",
      "        [79.8000],\n",
      "        [64.4000],\n",
      "        [78.0000],\n",
      "        [75.0000],\n",
      "        [59.7000],\n",
      "        [77.6000],\n",
      "        [74.5000],\n",
      "        [64.8000],\n",
      "        [74.1000],\n",
      "        [63.7000],\n",
      "        [72.1000],\n",
      "        [71.4000],\n",
      "        [74.1000],\n",
      "        [51.5000],\n",
      "        [53.3000],\n",
      "        [56.5000],\n",
      "        [63.2000],\n",
      "        [72.8000],\n",
      "        [75.7000],\n",
      "        [69.8000],\n",
      "        [75.5000],\n",
      "        [53.5000],\n",
      "        [69.1000],\n",
      "        [75.2000],\n",
      "        [76.3000],\n",
      "        [69.1000],\n",
      "        [64.3000],\n",
      "        [75.4000],\n",
      "        [67.7000],\n",
      "        [65.0000],\n",
      "        [83.0000],\n",
      "        [73.9000],\n",
      "        [44.3000],\n",
      "        [64.2000],\n",
      "        [86.0000],\n",
      "        [46.5000],\n",
      "        [75.0000],\n",
      "        [81.6000],\n",
      "        [62.9000],\n",
      "        [69.6000],\n",
      "        [69.4000],\n",
      "        [64.3000],\n",
      "        [55.9000],\n",
      "        [79.4000],\n",
      "        [68.0000],\n",
      "        [59.5000],\n",
      "        [86.0000],\n",
      "        [57.2000],\n",
      "        [73.5000],\n",
      "        [67.3000],\n",
      "        [69.1000],\n",
      "        [78.7000],\n",
      "        [77.5000],\n",
      "        [71.0000],\n",
      "        [59.6000],\n",
      "        [72.1000],\n",
      "        [63.5000],\n",
      "        [58.4000],\n",
      "        [53.6000],\n",
      "        [74.3000],\n",
      "        [44.5000],\n",
      "        [77.0000],\n",
      "        [66.9000],\n",
      "        [74.5000],\n",
      "        [67.5000],\n",
      "        [64.3000],\n",
      "        [66.1000],\n",
      "        [61.0000],\n",
      "        [74.1000],\n",
      "        [65.6000],\n",
      "        [68.0000],\n",
      "        [73.9000],\n",
      "        [55.2000],\n",
      "        [72.9000],\n",
      "        [74.4000],\n",
      "        [59.1000],\n",
      "        [78.0000],\n",
      "        [54.0000],\n",
      "        [67.2000],\n",
      "        [66.8000],\n",
      "        [57.6000],\n",
      "        [57.7000],\n",
      "        [75.9000],\n",
      "        [68.7000],\n",
      "        [56.8000],\n",
      "        [71.2000],\n",
      "        [76.1000],\n",
      "        [62.8000],\n",
      "        [74.5000],\n",
      "        [55.3000],\n",
      "        [73.0000],\n",
      "        [83.0000],\n",
      "        [44.8000],\n",
      "        [71.4000],\n",
      "        [52.9000],\n",
      "        [63.3000],\n",
      "        [76.9000],\n",
      "        [47.1000],\n",
      "        [69.0000],\n",
      "        [73.5000],\n",
      "        [46.0000],\n",
      "        [63.1000],\n",
      "        [77.3000],\n",
      "        [68.6000],\n",
      "        [64.9000],\n",
      "        [67.0000],\n",
      "        [71.5000],\n",
      "        [71.9000],\n",
      "        [74.6000],\n",
      "        [74.6000],\n",
      "        [82.0000],\n",
      "        [68.3000],\n",
      "        [71.2000],\n",
      "        [80.0000],\n",
      "        [82.5000],\n",
      "        [76.3000],\n",
      "        [51.3000],\n",
      "        [75.5000],\n",
      "        [66.5000],\n",
      "        [41.5000],\n",
      "        [59.7000],\n",
      "        [71.4000],\n",
      "        [47.1000],\n",
      "        [62.6000],\n",
      "        [51.0000],\n",
      "        [71.9000],\n",
      "        [77.7000],\n",
      "        [63.0000],\n",
      "        [72.0000],\n",
      "        [59.1000],\n",
      "        [72.7000],\n",
      "        [51.0000],\n",
      "        [79.5000],\n",
      "        [49.4000],\n",
      "        [65.1000],\n",
      "        [73.7000]])\n"
     ]
    }
   ],
   "source": [
    "for xb, yb in train_loader:\n",
    "    print(\"inputs:\", xb)\n",
    "    print(\"targets:\", yb)\n",
    "    break"
   ]
  },
  {
   "cell_type": "code",
   "execution_count": 27,
   "metadata": {},
   "outputs": [],
   "source": [
    "def evaluate(model, val_loader):\n",
    "    outputs = [model.validation_step(batch) for batch in val_loader]\n",
    "    return model.validation_epoch_end(outputs)\n",
    "\n",
    "def fit(epochs, lr, model, train_loader, val_loader, opt_func=torch.optim.Adam):\n",
    "    history = []\n",
    "    optimizer = opt_func(model.parameters(), lr)\n",
    "    for epoch in range(epochs):\n",
    "        # Training Phase \n",
    "        for batch in train_loader:\n",
    "            loss = model.training_step(batch)\n",
    "            loss.backward()\n",
    "            optimizer.step()\n",
    "            optimizer.zero_grad()\n",
    "        # Validation phase\n",
    "        result = evaluate(model, val_loader)\n",
    "        model.epoch_end(epoch, result, epochs)\n",
    "        history.append(result)\n",
    "    return history"
   ]
  },
  {
   "cell_type": "code",
   "execution_count": 28,
   "metadata": {},
   "outputs": [],
   "source": [
    "model = LifeModel()"
   ]
  },
  {
   "cell_type": "code",
   "execution_count": 29,
   "metadata": {},
   "outputs": [
    {
     "data": {
      "text/plain": [
       "[Parameter containing:\n",
       " tensor([[ 0.1672, -0.3885, -0.0262,  0.3060,  0.4405]], requires_grad=True),\n",
       " Parameter containing:\n",
       " tensor([-0.4256], requires_grad=True)]"
      ]
     },
     "execution_count": 29,
     "metadata": {},
     "output_type": "execute_result"
    }
   ],
   "source": [
    "list(model.parameters())"
   ]
  },
  {
   "cell_type": "code",
   "execution_count": 30,
   "metadata": {},
   "outputs": [
    {
     "data": {
      "text/plain": [
       "{'val_loss': 2129.86572265625}"
      ]
     },
     "execution_count": 30,
     "metadata": {},
     "output_type": "execute_result"
    }
   ],
   "source": [
    "result = evaluate(model, val_loader)\n",
    "result"
   ]
  },
  {
   "cell_type": "markdown",
   "metadata": {},
   "source": [
    "Now that the model has been initialized we can start the training"
   ]
  },
  {
   "cell_type": "code",
   "execution_count": 31,
   "metadata": {},
   "outputs": [
    {
     "name": "stdout",
     "output_type": "stream",
     "text": [
      "Epoch [10], val_loss: 2107.9548\n"
     ]
    }
   ],
   "source": [
    "epochs = 10\n",
    "learning_rate=1e-4\n",
    "history = fit(epochs, learning_rate, model, train_loader, val_loader)"
   ]
  },
  {
   "cell_type": "code",
   "execution_count": 32,
   "metadata": {},
   "outputs": [
    {
     "name": "stdout",
     "output_type": "stream",
     "text": [
      "Epoch [50], val_loss: 1998.3151\n",
      "Epoch [100], val_loss: 1888.5732\n",
      "Epoch [150], val_loss: 1779.4658\n",
      "Epoch [200], val_loss: 1670.2820\n",
      "Epoch [250], val_loss: 1560.8851\n",
      "Epoch [300], val_loss: 1451.8232\n",
      "Epoch [350], val_loss: 1342.9438\n",
      "Epoch [400], val_loss: 1234.3456\n",
      "Epoch [450], val_loss: 1125.6744\n",
      "Epoch [500], val_loss: 1017.4001\n",
      "Epoch [550], val_loss: 909.6881\n",
      "Epoch [600], val_loss: 802.0073\n",
      "Epoch [650], val_loss: 694.6505\n",
      "Epoch [700], val_loss: 588.4855\n",
      "Epoch [750], val_loss: 484.1162\n",
      "Epoch [800], val_loss: 379.0567\n",
      "Epoch [850], val_loss: 276.0617\n",
      "Epoch [900], val_loss: 175.0123\n",
      "Epoch [950], val_loss: 78.7063\n",
      "Epoch [1000], val_loss: 32.3030\n"
     ]
    }
   ],
   "source": [
    "epochs = 1000\n",
    "learning_rate=1e-4\n",
    "history1 = fit(epochs, learning_rate, model, train_loader, val_loader)"
   ]
  },
  {
   "cell_type": "code",
   "execution_count": 33,
   "metadata": {},
   "outputs": [
    {
     "name": "stdout",
     "output_type": "stream",
     "text": [
      "Epoch [50], val_loss: 23.4212\n",
      "Epoch [100], val_loss: 16.9695\n",
      "Epoch [150], val_loss: 13.8123\n",
      "Epoch [200], val_loss: 10.0411\n",
      "Epoch [250], val_loss: 8.6003\n",
      "Epoch [300], val_loss: 7.3694\n",
      "Epoch [350], val_loss: 8.6298\n",
      "Epoch [400], val_loss: 7.6554\n",
      "Epoch [450], val_loss: 7.1300\n",
      "Epoch [500], val_loss: 7.0554\n",
      "Epoch [550], val_loss: 6.8726\n",
      "Epoch [600], val_loss: 8.4802\n",
      "Epoch [650], val_loss: 7.3451\n",
      "Epoch [700], val_loss: 10.1619\n",
      "Epoch [750], val_loss: 7.9844\n",
      "Epoch [800], val_loss: 11.3588\n",
      "Epoch [850], val_loss: 8.9760\n",
      "Epoch [900], val_loss: 6.7803\n",
      "Epoch [950], val_loss: 7.2850\n",
      "Epoch [1000], val_loss: 6.5803\n"
     ]
    }
   ],
   "source": [
    "epochs = 1000\n",
    "learning_rate=5e-3\n",
    "history2 = fit(epochs, learning_rate, model, train_loader, val_loader)"
   ]
  },
  {
   "cell_type": "code",
   "execution_count": 34,
   "metadata": {},
   "outputs": [
    {
     "name": "stdout",
     "output_type": "stream",
     "text": [
      "Epoch [50], val_loss: 6.2930\n",
      "Epoch [100], val_loss: 6.2880\n",
      "Epoch [150], val_loss: 6.2851\n",
      "Epoch [200], val_loss: 6.2797\n",
      "Epoch [250], val_loss: 6.2940\n",
      "Epoch [300], val_loss: 6.2812\n",
      "Epoch [350], val_loss: 6.2734\n",
      "Epoch [400], val_loss: 6.2956\n",
      "Epoch [450], val_loss: 6.2789\n",
      "Epoch [500], val_loss: 6.2865\n",
      "Epoch [550], val_loss: 6.2820\n",
      "Epoch [600], val_loss: 6.2940\n",
      "Epoch [650], val_loss: 6.2952\n",
      "Epoch [700], val_loss: 6.2663\n",
      "Epoch [750], val_loss: 6.2750\n",
      "Epoch [800], val_loss: 6.2784\n",
      "Epoch [850], val_loss: 6.2671\n",
      "Epoch [900], val_loss: 6.2922\n",
      "Epoch [950], val_loss: 6.2659\n",
      "Epoch [1000], val_loss: 6.2667\n",
      "Epoch [1050], val_loss: 6.2764\n",
      "Epoch [1100], val_loss: 6.2753\n",
      "Epoch [1150], val_loss: 6.2849\n",
      "Epoch [1200], val_loss: 6.2723\n",
      "Epoch [1250], val_loss: 6.2789\n",
      "Epoch [1300], val_loss: 6.2882\n",
      "Epoch [1350], val_loss: 6.2893\n",
      "Epoch [1400], val_loss: 6.2689\n",
      "Epoch [1450], val_loss: 6.2853\n",
      "Epoch [1500], val_loss: 6.2799\n",
      "Epoch [1550], val_loss: 6.2710\n",
      "Epoch [1600], val_loss: 6.2824\n",
      "Epoch [1650], val_loss: 6.2793\n",
      "Epoch [1700], val_loss: 6.2882\n",
      "Epoch [1750], val_loss: 6.2646\n",
      "Epoch [1800], val_loss: 6.2731\n",
      "Epoch [1850], val_loss: 6.2687\n",
      "Epoch [1900], val_loss: 6.2649\n",
      "Epoch [1950], val_loss: 6.2741\n",
      "Epoch [2000], val_loss: 6.2638\n",
      "Epoch [2050], val_loss: 6.2779\n",
      "Epoch [2100], val_loss: 6.2656\n",
      "Epoch [2150], val_loss: 6.2680\n",
      "Epoch [2200], val_loss: 6.2839\n",
      "Epoch [2250], val_loss: 6.2609\n",
      "Epoch [2300], val_loss: 6.2712\n",
      "Epoch [2350], val_loss: 6.2735\n",
      "Epoch [2400], val_loss: 6.2745\n",
      "Epoch [2450], val_loss: 6.2553\n",
      "Epoch [2500], val_loss: 6.2703\n",
      "Epoch [2550], val_loss: 6.2707\n",
      "Epoch [2600], val_loss: 6.2555\n",
      "Epoch [2650], val_loss: 6.2678\n",
      "Epoch [2700], val_loss: 6.2611\n",
      "Epoch [2750], val_loss: 6.2811\n",
      "Epoch [2800], val_loss: 6.2677\n",
      "Epoch [2850], val_loss: 6.2657\n",
      "Epoch [2900], val_loss: 6.2686\n",
      "Epoch [2950], val_loss: 6.2610\n",
      "Epoch [3000], val_loss: 6.2593\n",
      "Epoch [3050], val_loss: 6.2602\n",
      "Epoch [3100], val_loss: 6.2568\n",
      "Epoch [3150], val_loss: 6.2570\n",
      "Epoch [3200], val_loss: 6.2674\n",
      "Epoch [3250], val_loss: 6.2663\n",
      "Epoch [3300], val_loss: 6.2671\n",
      "Epoch [3350], val_loss: 6.2575\n",
      "Epoch [3400], val_loss: 6.2559\n",
      "Epoch [3450], val_loss: 6.2568\n",
      "Epoch [3500], val_loss: 6.2575\n",
      "Epoch [3550], val_loss: 6.2626\n",
      "Epoch [3600], val_loss: 6.2688\n",
      "Epoch [3650], val_loss: 6.2619\n",
      "Epoch [3700], val_loss: 6.2901\n",
      "Epoch [3750], val_loss: 6.2619\n",
      "Epoch [3800], val_loss: 6.2622\n",
      "Epoch [3850], val_loss: 6.2695\n",
      "Epoch [3900], val_loss: 6.2608\n",
      "Epoch [3950], val_loss: 6.2646\n",
      "Epoch [4000], val_loss: 6.2570\n",
      "Epoch [4050], val_loss: 6.2521\n",
      "Epoch [4100], val_loss: 6.2548\n",
      "Epoch [4150], val_loss: 6.2701\n",
      "Epoch [4200], val_loss: 6.2508\n",
      "Epoch [4250], val_loss: 6.2625\n",
      "Epoch [4300], val_loss: 6.2614\n",
      "Epoch [4350], val_loss: 6.2642\n",
      "Epoch [4400], val_loss: 6.2476\n",
      "Epoch [4450], val_loss: 6.2595\n",
      "Epoch [4500], val_loss: 6.2427\n",
      "Epoch [4550], val_loss: 6.2581\n",
      "Epoch [4600], val_loss: 6.2529\n",
      "Epoch [4650], val_loss: 6.2496\n",
      "Epoch [4700], val_loss: 6.2490\n",
      "Epoch [4750], val_loss: 6.2415\n",
      "Epoch [4800], val_loss: 6.2418\n",
      "Epoch [4850], val_loss: 6.2510\n",
      "Epoch [4900], val_loss: 6.2530\n",
      "Epoch [4950], val_loss: 6.2591\n",
      "Epoch [5000], val_loss: 6.2596\n",
      "Epoch [5050], val_loss: 6.2450\n",
      "Epoch [5100], val_loss: 6.2488\n",
      "Epoch [5150], val_loss: 6.2526\n",
      "Epoch [5200], val_loss: 6.2524\n",
      "Epoch [5250], val_loss: 6.2499\n",
      "Epoch [5300], val_loss: 6.2570\n",
      "Epoch [5350], val_loss: 6.2515\n",
      "Epoch [5400], val_loss: 6.2527\n",
      "Epoch [5450], val_loss: 6.2461\n",
      "Epoch [5500], val_loss: 6.2436\n",
      "Epoch [5550], val_loss: 6.2461\n",
      "Epoch [5600], val_loss: 6.2436\n",
      "Epoch [5650], val_loss: 6.2673\n",
      "Epoch [5700], val_loss: 6.2539\n",
      "Epoch [5750], val_loss: 6.2517\n",
      "Epoch [5800], val_loss: 6.2583\n",
      "Epoch [5850], val_loss: 6.2512\n",
      "Epoch [5900], val_loss: 6.2468\n",
      "Epoch [5950], val_loss: 6.2550\n",
      "Epoch [6000], val_loss: 6.2509\n",
      "Epoch [6050], val_loss: 6.2420\n",
      "Epoch [6100], val_loss: 6.2352\n",
      "Epoch [6150], val_loss: 6.2715\n",
      "Epoch [6200], val_loss: 6.2554\n",
      "Epoch [6250], val_loss: 6.2432\n",
      "Epoch [6300], val_loss: 6.2429\n",
      "Epoch [6350], val_loss: 6.2370\n",
      "Epoch [6400], val_loss: 6.2418\n",
      "Epoch [6450], val_loss: 6.2387\n",
      "Epoch [6500], val_loss: 6.2408\n",
      "Epoch [6550], val_loss: 6.2545\n",
      "Epoch [6600], val_loss: 6.2423\n",
      "Epoch [6650], val_loss: 6.2312\n",
      "Epoch [6700], val_loss: 6.2351\n",
      "Epoch [6750], val_loss: 6.2462\n",
      "Epoch [6800], val_loss: 6.2368\n",
      "Epoch [6850], val_loss: 6.2393\n",
      "Epoch [6900], val_loss: 6.2397\n",
      "Epoch [6950], val_loss: 6.2378\n",
      "Epoch [7000], val_loss: 6.2468\n",
      "Epoch [7050], val_loss: 6.2399\n",
      "Epoch [7100], val_loss: 6.2455\n",
      "Epoch [7150], val_loss: 6.2334\n",
      "Epoch [7200], val_loss: 6.2509\n",
      "Epoch [7250], val_loss: 6.2502\n",
      "Epoch [7300], val_loss: 6.2429\n",
      "Epoch [7350], val_loss: 6.2484\n",
      "Epoch [7400], val_loss: 6.2464\n",
      "Epoch [7450], val_loss: 6.2331\n",
      "Epoch [7500], val_loss: 6.2408\n",
      "Epoch [7550], val_loss: 6.2445\n",
      "Epoch [7600], val_loss: 6.2564\n",
      "Epoch [7650], val_loss: 6.2640\n",
      "Epoch [7700], val_loss: 6.2377\n",
      "Epoch [7750], val_loss: 6.2323\n",
      "Epoch [7800], val_loss: 6.2321\n",
      "Epoch [7850], val_loss: 6.2311\n",
      "Epoch [7900], val_loss: 6.2249\n",
      "Epoch [7950], val_loss: 6.2583\n",
      "Epoch [8000], val_loss: 6.2361\n",
      "Epoch [8050], val_loss: 6.2248\n",
      "Epoch [8100], val_loss: 6.2332\n",
      "Epoch [8150], val_loss: 6.2330\n",
      "Epoch [8200], val_loss: 6.2311\n",
      "Epoch [8250], val_loss: 6.2336\n",
      "Epoch [8300], val_loss: 6.2324\n",
      "Epoch [8350], val_loss: 6.2279\n",
      "Epoch [8400], val_loss: 6.2393\n",
      "Epoch [8450], val_loss: 6.2301\n",
      "Epoch [8500], val_loss: 6.2283\n",
      "Epoch [8550], val_loss: 6.2309\n",
      "Epoch [8600], val_loss: 6.2339\n",
      "Epoch [8650], val_loss: 6.2327\n",
      "Epoch [8700], val_loss: 6.2372\n",
      "Epoch [8750], val_loss: 6.2459\n",
      "Epoch [8800], val_loss: 6.2258\n",
      "Epoch [8850], val_loss: 6.2479\n",
      "Epoch [8900], val_loss: 6.2205\n",
      "Epoch [8950], val_loss: 6.2306\n",
      "Epoch [9000], val_loss: 6.2481\n",
      "Epoch [9050], val_loss: 6.2302\n",
      "Epoch [9100], val_loss: 6.2280\n",
      "Epoch [9150], val_loss: 6.2192\n",
      "Epoch [9200], val_loss: 6.2247\n",
      "Epoch [9250], val_loss: 6.2192\n",
      "Epoch [9300], val_loss: 6.2208\n",
      "Epoch [9350], val_loss: 6.2230\n",
      "Epoch [9400], val_loss: 6.2257\n",
      "Epoch [9450], val_loss: 6.2266\n",
      "Epoch [9500], val_loss: 6.2179\n",
      "Epoch [9550], val_loss: 6.2252\n",
      "Epoch [9600], val_loss: 6.2231\n",
      "Epoch [9650], val_loss: 6.2182\n",
      "Epoch [9700], val_loss: 6.2228\n",
      "Epoch [9750], val_loss: 6.2263\n",
      "Epoch [9800], val_loss: 6.2251\n",
      "Epoch [9850], val_loss: 6.2300\n",
      "Epoch [9900], val_loss: 6.2259\n",
      "Epoch [9950], val_loss: 6.2233\n",
      "Epoch [10000], val_loss: 6.2231\n"
     ]
    }
   ],
   "source": [
    "epochs = 10000\n",
    "learning_rate=1e-5\n",
    "history3 = fit(epochs, learning_rate, model, train_loader, val_loader)"
   ]
  },
  {
   "cell_type": "code",
   "execution_count": 48,
   "metadata": {},
   "outputs": [
    {
     "data": {
      "image/png": "[encoded data removed]",
      "text/plain": [
       "<Figure size 432x288 with 1 Axes>"
      ]
     },
     "metadata": {
      "needs_background": "light"
     },
     "output_type": "display_data"
    }
   ],
   "source": [
    "losses = [r['val_loss'] for r in [result] + history1]\n",
    "plt.plot(losses, '-')\n",
    "plt.xlabel('epoch')\n",
    "plt.ylabel('val_loss')\n",
    "plt.title('val_loss vs. epochs');"
   ]
  },
  {
   "cell_type": "markdown",
   "metadata": {},
   "source": [
    "## Predictions"
   ]
  },
  {
   "cell_type": "code",
   "execution_count": 36,
   "metadata": {},
   "outputs": [],
   "source": [
    "def predict_single(x, model):\n",
    "    xb = x.unsqueeze(0)\n",
    "    return model(x).item()"
   ]
  },
  {
   "cell_type": "code",
   "execution_count": 37,
   "metadata": {},
   "outputs": [
    {
     "name": "stdout",
     "output_type": "stream",
     "text": [
      "Input:  tensor([1.0000e+00, 7.1364e+02, 5.2700e+02, 1.0000e+01, 4.3600e-01])\n",
      "Target:  52.400001525878906\n",
      "Prediction: 58.3087158203125\n"
     ]
    }
   ],
   "source": [
    "x, target = val_ds[10]\n",
    "pred = predict_single(x, model)\n",
    "print(\"Input: \", x)\n",
    "print(\"Target: \", target.item())\n",
    "print(\"Prediction:\", pred)"
   ]
  },
  {
   "cell_type": "code",
   "execution_count": 38,
   "metadata": {},
   "outputs": [
    {
     "name": "stdout",
     "output_type": "stream",
     "text": [
      "Input:  tensor([1.0000e+00, 2.9691e+04, 9.9000e+01, 1.5400e+01, 8.5200e-01])\n",
      "Target:  79.30000305175781\n",
      "Prediction: 85.18712615966797\n"
     ]
    }
   ],
   "source": [
    "x, target = val_ds[17]\n",
    "pred = predict_single(x, model)\n",
    "print(\"Input: \", x)\n",
    "print(\"Target: \", target.item())\n",
    "print(\"Prediction:\", pred)"
   ]
  },
  {
   "cell_type": "code",
   "execution_count": 39,
   "metadata": {},
   "outputs": [
    {
     "name": "stdout",
     "output_type": "stream",
     "text": [
      "Input:  tensor([1.0000e+00, 9.3334e+02, 1.2300e+02, 1.2300e+01, 7.3100e-01])\n",
      "Target:  76.0\n",
      "Prediction: 71.99646759033203\n"
     ]
    }
   ],
   "source": [
    "x, target = val_ds[23]\n",
    "pred = predict_single(x, model)\n",
    "print(\"Input: \", x)\n",
    "print(\"Target: \", target.item())\n",
    "print(\"Prediction:\", pred)"
   ]
  },
  {
   "cell_type": "markdown",
   "metadata": {},
   "source": [
    "Overall the model seems to be quite accurate in its prediction, we can call it a success"
   ]
  },
  {
   "cell_type": "code",
   "execution_count": 49,
   "metadata": {},
   "outputs": [
    {
     "data": {
      "text/plain": [
       "[Parameter containing:\n",
       " tensor([[ 1.0620e+01,  1.3200e-05, -7.6577e-03,  3.8408e+00,  5.9570e+00]],\n",
       "        requires_grad=True), Parameter containing:\n",
       " tensor([10.7100], requires_grad=True)]"
      ]
     },
     "execution_count": 49,
     "metadata": {},
     "output_type": "execute_result"
    }
   ],
   "source": [
    "# final parameters\n",
    "list(model.parameters())"
   ]
  },
  {
   "cell_type": "markdown",
   "metadata": {},
   "source": [
    "## Save and upload"
   ]
  },
  {
   "cell_type": "code",
   "execution_count": 50,
   "metadata": {},
   "outputs": [],
   "source": [
    "torch.save(model.state_dict(), 'life-expectancy.pth')"
   ]
  },
  {
   "cell_type": "code",
   "execution_count": null,
   "metadata": {},
   "outputs": [
    {
     "data": {
      "application/javascript": [
       "window.require && require([\"base/js/namespace\"],function(Jupyter){Jupyter.notebook.save_checkpoint()})"
      ],
      "text/plain": [
       "<IPython.core.display.Javascript object>"
      ]
     },
     "metadata": {},
     "output_type": "display_data"
    },
    {
     "name": "stdout",
     "output_type": "stream",
     "text": [
      "[jovian] Attempting to save notebook..\u001b[0m\n",
      "[jovian] Updating notebook \"federico-abss/life-expectancy-linear\" on https://jovian.ml/\u001b[0m\n",
      "[jovian] Uploading notebook..\u001b[0m\n",
      "[jovian] Uploading additional outputs...\u001b[0m\n",
      "[jovian] Committed successfully! https://jovian.ml/federico-abss/life-expectancy-linear\u001b[0m\n"
     ]
    },
    {
     "data": {
      "application/javascript": [
       "window.require && require([\"base/js/namespace\"],function(Jupyter){Jupyter.notebook.save_checkpoint()})"
      ],
      "text/plain": [
       "<IPython.core.display.Javascript object>"
      ]
     },
     "metadata": {},
     "output_type": "display_data"
    },
    {
     "name": "stdout",
     "output_type": "stream",
     "text": [
      "[jovian] Attempting to save notebook..\u001b[0m\n"
     ]
    }
   ],
   "source": [
    "jovian.commit(project='life-expectancy-linear', environment=None, outputs=['life-expectancy.pth'])\n",
    "jovian.commit(project='life-expectancy-linear', environment=None, outputs=['life-expectancy.pth']) # Kaggle commit fails sometimes, so try again.."
   ]
  },
  {
   "cell_type": "code",
   "execution_count": null,
   "metadata": {},
   "outputs": [],
   "source": []
  }
 ],
 "metadata": {
  "kernelspec": {
   "display_name": "Python 3",
   "language": "python",
   "name": "python3"
  },
  "language_info": {
   "codemirror_mode": {
    "name": "ipython",
    "version": 3
   },
   "file_extension": ".py",
   "mimetype": "text/x-python",
   "name": "python",
   "nbconvert_exporter": "python",
   "pygments_lexer": "ipython3",
   "version": "3.7.6"
  }
 },
 "nbformat": 4,
 "nbformat_minor": 4
}
